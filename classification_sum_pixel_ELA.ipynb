{
 "cells": [
  {
   "cell_type": "code",
   "execution_count": 8,
   "id": "82e1527c",
   "metadata": {
    "collapsed": true,
    "ExecuteTime": {
     "end_time": "2024-07-05T18:41:39.732142002Z",
     "start_time": "2024-07-05T18:41:39.689076909Z"
    }
   },
   "outputs": [],
   "source": [
    "import numpy as np\n",
    "import pandas as pd\n",
    "import os\n",
    "from PIL import Image\n",
    "import cv2\n",
    "from sklearn.model_selection import train_test_split\n",
    "from sklearn.linear_model import LogisticRegression\n",
    "from sklearn.svm import SVC\n",
    "from sklearn.naive_bayes import GaussianNB\n",
    "from sklearn.neighbors import KNeighborsClassifier\n",
    "from sklearn.tree import DecisionTreeClassifier\n",
    "from sklearn.ensemble import RandomForestClassifier\n",
    "from sklearn.ensemble import GradientBoostingClassifier\n",
    "from sklearn.metrics import accuracy_score, recall_score, precision_score, f1_score\n",
    "from sklearn.metrics import confusion_matrix\n",
    "from tqdm import tqdm\n",
    "import joblib\n",
    "\n",
    "tqdm.pandas()"
   ]
  },
  {
   "cell_type": "code",
   "execution_count": 2,
   "id": "d8e37d57",
   "metadata": {
    "collapsed": false,
    "ExecuteTime": {
     "end_time": "2024-07-05T18:40:20.591443719Z",
     "start_time": "2024-07-05T18:40:20.587345550Z"
    }
   },
   "outputs": [],
   "source": [
    "def sum_of_pixel(file_path):\n",
    "    img = np.array(Image.open(file_path).convert('L'))\n",
    "    return np.sum(img) / (img.shape[0] * img.shape[1])"
   ]
  },
  {
   "cell_type": "code",
   "execution_count": 13,
   "id": "b068121c",
   "metadata": {
    "collapsed": false,
    "ExecuteTime": {
     "end_time": "2024-07-05T20:42:53.982246761Z",
     "start_time": "2024-07-05T20:42:53.974918193Z"
    }
   },
   "outputs": [],
   "source": [
    "if os.path.exists('yanport_dataset/df.csv'):\n",
    "    df = pd.read_csv('yanport_dataset/df.csv')\n",
    "else :\n",
    "    df = pd.DataFrame(columns=['image_path', 'path_ela', 'label'])\n",
    "\n",
    "    folder_path = 'yanport_dataset/REAL'\n",
    "    real_df = pd.DataFrame(columns=['image_path', 'path_ela', 'label'])\n",
    "    for filename in os.listdir(folder_path):\n",
    "        if filename.endswith('.jpg') or filename.endswith('.png') or filename.endswith('.jpeg'):\n",
    "            file_path = os.path.join(folder_path, filename)\n",
    "            row = {'image_path': file_path, 'path_ela': 'yanport_dataset/ELA_REAL/' + filename, 'label': 0}\n",
    "            real_df = pd.concat([real_df, pd.DataFrame(row, index=[0])], ignore_index=True)\n",
    "\n",
    "    fake_df = pd.DataFrame(columns=['image_path', 'path_ela', 'label'])\n",
    "    folder_path = 'yanport_dataset/FAKE'\n",
    "    for filename in os.listdir(folder_path):\n",
    "        if filename.endswith('.jpg') or filename.endswith('.png') or filename.endswith('.jpeg'):\n",
    "            file_path = os.path.join(folder_path, filename)\n",
    "            row = {'image_path': file_path, 'path_ela': 'yanport_dataset/ELA_FAKE/' + filename, 'label': 1}\n",
    "            fake_df = pd.concat([fake_df, pd.DataFrame(row, index=[0])], ignore_index=True)\n",
    "\n",
    "    df = pd.concat([real_df, fake_df], ignore_index=True)\n",
    "    df.to_csv('yanport_dataset/df.csv', index=False)"
   ]
  },
  {
   "cell_type": "code",
   "execution_count": 14,
   "id": "4769c996",
   "metadata": {
    "collapsed": false,
    "ExecuteTime": {
     "end_time": "2024-07-05T20:42:59.928145322Z",
     "start_time": "2024-07-05T20:42:56.002693328Z"
    }
   },
   "outputs": [
    {
     "name": "stderr",
     "output_type": "stream",
     "text": [
      "100%|██████████| 2746/2746 [00:03<00:00, 708.38it/s]\n"
     ]
    }
   ],
   "source": [
    "df['sum_of_pixel'] = df['path_ela'].progress_apply(sum_of_pixel)"
   ]
  },
  {
   "cell_type": "code",
   "execution_count": 5,
   "outputs": [
    {
     "data": {
      "text/plain": "      sum_of_pixel                                                    \\\n             count      mean       std       min       25%       50%   \nlabel                                                                  \n0           1423.0  0.096742  0.117291  0.000123  0.023931  0.056712   \n1           1323.0  0.545049  0.347588  0.004158  0.266090  0.495490   \n\n                           \n            75%       max  \nlabel                      \n0      0.126139  0.977672  \n1      0.781530  1.998125  ",
      "text/html": "<div>\n<style scoped>\n    .dataframe tbody tr th:only-of-type {\n        vertical-align: middle;\n    }\n\n    .dataframe tbody tr th {\n        vertical-align: top;\n    }\n\n    .dataframe thead tr th {\n        text-align: left;\n    }\n\n    .dataframe thead tr:last-of-type th {\n        text-align: right;\n    }\n</style>\n<table border=\"1\" class=\"dataframe\">\n  <thead>\n    <tr>\n      <th></th>\n      <th colspan=\"8\" halign=\"left\">sum_of_pixel</th>\n    </tr>\n    <tr>\n      <th></th>\n      <th>count</th>\n      <th>mean</th>\n      <th>std</th>\n      <th>min</th>\n      <th>25%</th>\n      <th>50%</th>\n      <th>75%</th>\n      <th>max</th>\n    </tr>\n    <tr>\n      <th>label</th>\n      <th></th>\n      <th></th>\n      <th></th>\n      <th></th>\n      <th></th>\n      <th></th>\n      <th></th>\n      <th></th>\n    </tr>\n  </thead>\n  <tbody>\n    <tr>\n      <th>0</th>\n      <td>1423.0</td>\n      <td>0.096742</td>\n      <td>0.117291</td>\n      <td>0.000123</td>\n      <td>0.023931</td>\n      <td>0.056712</td>\n      <td>0.126139</td>\n      <td>0.977672</td>\n    </tr>\n    <tr>\n      <th>1</th>\n      <td>1323.0</td>\n      <td>0.545049</td>\n      <td>0.347588</td>\n      <td>0.004158</td>\n      <td>0.266090</td>\n      <td>0.495490</td>\n      <td>0.781530</td>\n      <td>1.998125</td>\n    </tr>\n  </tbody>\n</table>\n</div>"
     },
     "execution_count": 5,
     "metadata": {},
     "output_type": "execute_result"
    }
   ],
   "source": [
    "df[['label', 'sum_of_pixel']].groupby('label').describe()"
   ],
   "metadata": {
    "collapsed": false,
    "ExecuteTime": {
     "end_time": "2024-07-05T18:40:33.418174618Z",
     "start_time": "2024-07-05T18:40:33.402544187Z"
    }
   },
   "id": "ae8796880e9dda63"
  },
  {
   "cell_type": "code",
   "execution_count": 6,
   "id": "376314c2",
   "metadata": {
    "collapsed": false,
    "ExecuteTime": {
     "end_time": "2024-07-05T18:40:37.911260003Z",
     "start_time": "2024-07-05T18:40:37.904535687Z"
    }
   },
   "outputs": [],
   "source": [
    "df['label'] = df['label'].astype(int)"
   ]
  },
  {
   "cell_type": "code",
   "execution_count": 6,
   "outputs": [
    {
     "data": {
      "text/plain": "<Figure size 640x480 with 1 Axes>",
      "image/png": "[encoded data removed]"
     },
     "metadata": {},
     "output_type": "display_data"
    }
   ],
   "source": [
    "# plot histogram of sum_of_pixel for real and fake images\n",
    "import matplotlib.pyplot as plt\n",
    "\n",
    "real = df[df['label'] == 0]\n",
    "fake = df[df['label'] == 1]\n",
    "\n",
    "plt.hist(real['sum_of_pixel'], bins=50, alpha=0.5, label='Real images', density=True)\n",
    "plt.hist(fake['sum_of_pixel'], bins=50, alpha=0.5, label='Fake images', density=True)\n",
    "plt.legend(loc='upper right')\n",
    "plt.xlabel('Sum of pixel of ELA images')\n",
    "plt.ylabel('Density')\n",
    "plt.title('Sum of pixel of ELA images for real and fake images')\n",
    "plt.savefig('sum_of_pixel.png')\n",
    "plt.show()"
   ],
   "metadata": {
    "collapsed": false,
    "ExecuteTime": {
     "end_time": "2024-06-22T20:44:19.565205920Z",
     "start_time": "2024-06-22T20:44:19.337605713Z"
    }
   },
   "id": "ff05530dd9d10b94"
  },
  {
   "cell_type": "code",
   "execution_count": 7,
   "id": "137a0711",
   "metadata": {
    "collapsed": false,
    "ExecuteTime": {
     "end_time": "2024-07-05T18:40:43.657204384Z",
     "start_time": "2024-07-05T18:40:43.653758546Z"
    }
   },
   "outputs": [],
   "source": [
    "X = df['sum_of_pixel']\n",
    "y = df['label']\n",
    "\n",
    "X_train, X_test, y_train, y_test = train_test_split(X, y, test_size=0.2, random_state=42)"
   ]
  },
  {
   "cell_type": "code",
   "execution_count": 10,
   "outputs": [
    {
     "name": "stdout",
     "output_type": "stream",
     "text": [
      "SVC\n",
      "Accuracy: 0.8418181818181818\n",
      "Recall: 0.7854406130268199\n",
      "Precision: 0.8686440677966102\n",
      "F1: 0.8249496981891348\n"
     ]
    }
   ],
   "source": [
    "if os.path.exists('model_1.pkl'):\n",
    "    svc = joblib.load('model_1.pkl')\n",
    "else:\n",
    "    svc = SVC()\n",
    "    svc.fit(X_train.values.reshape(-1, 1), y_train)\n",
    "    joblib.dump(svc, 'model_1.pkl')\n",
    "    \n",
    "y_pred = svc.predict(X_test.values.reshape(-1, 1))\n",
    "print('SVC')\n",
    "print('Accuracy:', accuracy_score(y_test, y_pred))\n",
    "print('Recall:', recall_score(y_test, y_pred))\n",
    "print('Precision:', precision_score(y_test, y_pred))\n",
    "print('F1:', f1_score(y_test, y_pred))"
   ],
   "metadata": {
    "collapsed": false,
    "ExecuteTime": {
     "end_time": "2024-07-05T18:42:36.008427222Z",
     "start_time": "2024-07-05T18:42:35.912183195Z"
    }
   },
   "id": "2bfca98fc080062f"
  }
 ],
 "metadata": {
  "jupytext": {
   "cell_metadata_filter": "all,-pycharm",
   "notebook_metadata_filter": "all,-pycharm"
  },
  "kernelspec": {
   "display_name": "Python 3",
   "language": "python",
   "name": "python3"
  },
  "language_info": {
   "codemirror_mode": {
    "name": "ipython",
    "version": 2
   },
   "file_extension": ".py",
   "mimetype": "text/x-python",
   "name": "python",
   "nbconvert_exporter": "python",
   "pygments_lexer": "ipython2",
   "version": "2.7.6"
  }
 },
 "nbformat": 4,
 "nbformat_minor": 5
}
